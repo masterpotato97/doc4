{
 "cells": [
  {
   "cell_type": "markdown",
   "metadata": {},
   "source": [
    "# Object-Oriented-Programming (OOP)"
   ]
  },
  {
   "cell_type": "markdown",
   "metadata": {},
   "source": [
    "## Tasks Today:\n",
    "\n",
    "   \n",
    "\n",
    "1) <b>Creating a Class (Initializing/Declaring)</b> <br>\n",
    "2) <b>Using a Class (Instantiating)</b> <br>\n",
    " &nbsp;&nbsp;&nbsp;&nbsp; a) Creating One Instance <br>\n",
    " &nbsp;&nbsp;&nbsp;&nbsp; b) Creating Multiple Instances <br>\n",
    " &nbsp;&nbsp;&nbsp;&nbsp; c) In-Class Exercise #1 - Create a Class 'Car' and instantiate three different makes of cars <br>\n",
    "3) <b>The \\__init\\__() Method</b> <br>\n",
    " &nbsp;&nbsp;&nbsp;&nbsp; a) The 'self' Attribute <br>\n",
    "4) <b>Class Attributes</b> <br>\n",
    " &nbsp;&nbsp;&nbsp;&nbsp; a) Initializing Attributes <br>\n",
    " &nbsp;&nbsp;&nbsp;&nbsp; b) Setting an Attribute Outside of the \\__init\\__() Method <br>\n",
    " &nbsp;&nbsp;&nbsp;&nbsp; c) Setting Defaults for Attributes <br>\n",
    " &nbsp;&nbsp;&nbsp;&nbsp; d) Accessing Class Attributes <br>\n",
    " &nbsp;&nbsp;&nbsp;&nbsp; e) Changing Class Attributes <br>\n",
    " &nbsp;&nbsp;&nbsp;&nbsp; f) In-Class Exercise #2 - Add a color and wheels attribute to your 'Car' class <br>\n",
    "5) <b>Class Methods</b> <br>\n",
    " &nbsp;&nbsp;&nbsp;&nbsp; a) Creating <br>\n",
    " &nbsp;&nbsp;&nbsp;&nbsp; b) Calling <br>\n",
    " &nbsp;&nbsp;&nbsp;&nbsp; c) Modifying an Attribute's Value Through a Method <br>\n",
    " &nbsp;&nbsp;&nbsp;&nbsp; d) Incrementing an Attribute's Value Through a Method <br>\n",
    " &nbsp;&nbsp;&nbsp;&nbsp; e) In-Class Exercise #3 - Add a method that prints the cars color and wheel number, then call them <br>\n",
    "6) <b>Inheritance</b> <br>\n",
    " &nbsp;&nbsp;&nbsp;&nbsp; a) Syntax for Inheriting from a Parent Class <br>\n",
    " &nbsp;&nbsp;&nbsp;&nbsp; b) The \\__init\\__() Method for a Child Class (super()) <br>\n",
    " &nbsp;&nbsp;&nbsp;&nbsp; c) Defining Attributes and Methods for the Child Class <br>\n",
    " &nbsp;&nbsp;&nbsp;&nbsp; d) Method Overriding <br>\n",
    " &nbsp;&nbsp;&nbsp;&nbsp; e) In-Class Exercise #4 - Create a class 'Ford' that inherits from 'Car' class and initialize it as a Blue Ford Explorer with 4 wheels using the super() method <br>\n",
    "7) <b>Classes as Attributes</b> <br>\n",
    "8) <b>Exercises</b> <br>\n",
    " &nbsp;&nbsp;&nbsp;&nbsp; a) Exercise #1 - Turn the shopping cart program from yesterday into an object-oriented program <br>"
   ]
  },
  {
   "cell_type": "markdown",
   "metadata": {},
   "source": [
    "## Creating a Class (Initializing/Declaring)\n",
    "<p>When creating a class, function, or even a variable you are initializing that object. Initializing and Declaring occur at the same time in Python, whereas in lower level languages you have to declare an object before initializing it. This is the first step in the process of using a class.</p>"
   ]
  },
  {
   "cell_type": "code",
   "execution_count": 1,
   "metadata": {},
   "outputs": [],
   "source": [
    "class Car():\n",
    "    wheels = 4\n",
    "    color = 'blue'"
   ]
  },
  {
   "cell_type": "markdown",
   "metadata": {},
   "source": [
    "## Using a Class (Instantiating)\n",
    "<p>The process of creating a class is called <i>Instantiating</i>. Each time you create a variable of that type of class, it is referred to as an <i>Instance</i> of that class. This is the second step in the process of using a class.</p>"
   ]
  },
  {
   "cell_type": "markdown",
   "metadata": {},
   "source": [
    "##### Creating One Instance"
   ]
  },
  {
   "cell_type": "code",
   "execution_count": 3,
   "metadata": {},
   "outputs": [
    {
     "name": "stdout",
     "output_type": "stream",
     "text": [
      "blue\n"
     ]
    }
   ],
   "source": [
    "ford = Car()\n",
    "\n",
    "print(ford.color)"
   ]
  },
  {
   "cell_type": "markdown",
   "metadata": {},
   "source": [
    "##### Creating Multiple Instances"
   ]
  },
  {
   "cell_type": "code",
   "execution_count": null,
   "metadata": {},
   "outputs": [],
   "source": []
  },
  {
   "cell_type": "markdown",
   "metadata": {},
   "source": [
    "##### In-Class Exercise #1 - Create a Class 'Car' and Instantiate three different makes of cars"
   ]
  },
  {
   "cell_type": "code",
   "execution_count": 9,
   "metadata": {},
   "outputs": [
    {
     "name": "stdout",
     "output_type": "stream",
     "text": [
      "5\n",
      "5\n",
      "5\n",
      "grey\n",
      "4\n"
     ]
    }
   ],
   "source": [
    "class Car():\n",
    "    doors=4\n",
    "    colors='grey'\n",
    "    wheels=4\n",
    "    seats=5\n",
    "    \n",
    "nissan = Car()\n",
    "moms_car = Car()\n",
    "my_car = Car()\n",
    "\n",
    "print(nissan.seats)\n",
    "print(moms_car.seats)\n",
    "print(my_car.seats)\n",
    "print(nissan.colors)\n",
    "print(nissan.doors)"
   ]
  },
  {
   "cell_type": "markdown",
   "metadata": {},
   "source": [
    "## The \\__init\\__() Method <br>\n",
    "<p>This method is used in almost every created class, and called only once upon the creation of the class instance. This method will initialize all variables needed for the object.</p>"
   ]
  },
  {
   "cell_type": "code",
   "execution_count": 14,
   "metadata": {},
   "outputs": [
    {
     "name": "stdout",
     "output_type": "stream",
     "text": [
      "black\n"
     ]
    }
   ],
   "source": [
    "class Car():\n",
    "    engine = '4.7L'  #global within class\n",
    "    def __init__(self, color, wheels):\n",
    "        self.color = color\n",
    "        self.wheels = wheels\n",
    "        \n",
    "        \n",
    "mazda = Car('black',4)\n",
    "\n",
    "print(mazda.color)"
   ]
  },
  {
   "cell_type": "markdown",
   "metadata": {},
   "source": [
    "##### The 'self' Attribute <br>\n",
    "<p>This attribute is required to keep track of specific instance's attributes. Without the self attribute, the program would not know how to reference or keep track of an instance's attributes.</p>"
   ]
  },
  {
   "cell_type": "code",
   "execution_count": null,
   "metadata": {},
   "outputs": [],
   "source": [
    "# see above"
   ]
  },
  {
   "cell_type": "markdown",
   "metadata": {},
   "source": [
    "## Class Attributes <br>\n",
    "<p>While variables are inside of a class, they are referred to as attributes and not variables. When someone says 'attribute' you know they're speaking about a class. Attributes can be initialized through the init method, or outside of it.</p>"
   ]
  },
  {
   "cell_type": "markdown",
   "metadata": {},
   "source": [
    "##### Initializing Attributes"
   ]
  },
  {
   "cell_type": "code",
   "execution_count": 17,
   "metadata": {},
   "outputs": [],
   "source": [
    "# see above\n",
    "\n",
    "class Toy():\n",
    "    kind= 'car'\n",
    "    \n",
    "    def __init__(self,rooftop, horn, wheels):\n",
    "        self.rooftop = rooftop\n",
    "        self.wheels = wheels\n",
    "        self.horn = horn\n",
    "ttruck= Toy(1,1,4)"
   ]
  },
  {
   "cell_type": "markdown",
   "metadata": {},
   "source": [
    "##### Accessing Class Attributes"
   ]
  },
  {
   "cell_type": "code",
   "execution_count": 18,
   "metadata": {
    "scrolled": true
   },
   "outputs": [
    {
     "data": {
      "text/plain": [
       "1"
      ]
     },
     "execution_count": 18,
     "metadata": {},
     "output_type": "execute_result"
    }
   ],
   "source": [
    "# See Above\n",
    "\n",
    "ttruck.rooftop\n"
   ]
  },
  {
   "cell_type": "markdown",
   "metadata": {},
   "source": [
    "##### Setting Defaults for Attributes"
   ]
  },
  {
   "cell_type": "code",
   "execution_count": 24,
   "metadata": {},
   "outputs": [
    {
     "data": {
      "text/plain": [
       "'blue'"
      ]
     },
     "execution_count": 24,
     "metadata": {},
     "output_type": "execute_result"
    }
   ],
   "source": [
    "class Car():\n",
    "    engine = '4.7L'\n",
    "    \n",
    "    def __init__(self, wheels):\n",
    "        self.wheels = wheels\n",
    "        self.color =\"blue\"\n",
    "        \n",
    "honda= Car(4)\n",
    "\n",
    "honda.color"
   ]
  },
  {
   "cell_type": "markdown",
   "metadata": {},
   "source": [
    "##### Changing Class Attributes <br>\n",
    "<p>Keep in mind there are global class attributes and then there are attributes only available to each class instance which won't effect other classes.</p>"
   ]
  },
  {
   "cell_type": "code",
   "execution_count": 27,
   "metadata": {},
   "outputs": [
    {
     "name": "stdout",
     "output_type": "stream",
     "text": [
      "before: blue\n",
      "after: white\n"
     ]
    }
   ],
   "source": [
    "jeep=Car(8)\n",
    "print(f'before: {jeep.color}')\n",
    "\n",
    "jeep.color=\"white\"\n",
    "\n",
    "print(f'after: {jeep.color}')"
   ]
  },
  {
   "cell_type": "code",
   "execution_count": null,
   "metadata": {},
   "outputs": [],
   "source": []
  },
  {
   "cell_type": "markdown",
   "metadata": {},
   "source": [
    "##### In-Class Exercise #2 - Add a doors and seats attribute to your 'Car' class then print out two different instances with different doors and seats"
   ]
  },
  {
   "cell_type": "code",
   "execution_count": 30,
   "metadata": {},
   "outputs": [
    {
     "name": "stdout",
     "output_type": "stream",
     "text": [
      "2\n",
      "4\n",
      "4\n",
      "8\n"
     ]
    }
   ],
   "source": [
    "class Car():\n",
    "    engine = '4.7L'\n",
    "    \n",
    "    def __init__(self, wheels,door,seats):\n",
    "        self.wheels = wheels\n",
    "        self.color =\"blue\"\n",
    "        self.door=door\n",
    "        self.seats=seats\n",
    "        \n",
    "nissan=Car(4,2,4)\n",
    "honda=Car(4,4,8)\n",
    "\n",
    "print(nissan.door)\n",
    "print(nissan.seats)\n",
    "print(honda.door)\n",
    "print(honda.seats)"
   ]
  },
  {
   "cell_type": "markdown",
   "metadata": {},
   "source": [
    "## Class Methods <br>\n",
    "<p>While inside of a class, functions are referred to as 'methods'. If you hear someone mention methods, they're speaking about classes. Methods are essentially functions, but only callable on the instances of a class.</p>"
   ]
  },
  {
   "cell_type": "markdown",
   "metadata": {},
   "source": [
    "##### Creating"
   ]
  },
  {
   "cell_type": "code",
   "execution_count": 9,
   "metadata": {},
   "outputs": [],
   "source": [
    "class ShoppingBag():\n",
    "    \"\"\"\n",
    "        the shopping class will have the handles capacity \n",
    "        and items to place inside.\n",
    "        \n",
    "        attributes for the class:\n",
    "            -handles\n",
    "            capacity\n",
    "            items\n",
    "        \n",
    "    \"\"\"\n",
    "    \n",
    "    def __init__ (self, handles, capacity, items):\n",
    "        self.handles = handles\n",
    "        self.capacity=capacity\n",
    "        self.items=items\n",
    "        \n",
    "    #write a method that shows the items in our shoppingbag. our items list\n",
    "    \n",
    "    def showShoppingBag(self):\n",
    "        print(\"You have items in your bag:\")\n",
    "        for item in self.items:\n",
    "            print(item)\n",
    "\n",
    "      #shows the capacity of shoppingBag      \n",
    "    def showCapacity(self):\n",
    "        print(f'your capacity is {self.capacity}')\n",
    "        \n",
    "        #add item/s to the items for the shoppingbag\n",
    "    def addToShoppingBag(self):\n",
    "        products = input('what would you like to add?')\n",
    "        self.items.append(products)\n",
    "        #channge the capacity ofthe shopping bag\n",
    "    def changeBagCapacity(self, capacity):\n",
    "        self.capacity=capacity\n",
    "        \n",
    "        #increse the capacity of the shoppingbaf by a default amount that we set to 10\n",
    "    def increaseCapacity(self, changed_capacity=10):\n",
    "        if self.capacity==isinstance(self.capacity,str):\n",
    "            print(\"we cant add that here\")\n",
    "            \n",
    "        else:\n",
    "            self.capacity += changed_capacity"
   ]
  },
  {
   "cell_type": "markdown",
   "metadata": {},
   "source": [
    "##### Calling"
   ]
  },
  {
   "cell_type": "code",
   "execution_count": 10,
   "metadata": {},
   "outputs": [
    {
     "name": "stdout",
     "output_type": "stream",
     "text": [
      "what u want to do add/show/quit add\n",
      "what would you like to add?donut\n",
      "what u want to do add/show/quit quit\n",
      "You have items in your bag:\n",
      "donut\n",
      "Thanks for shopping\n"
     ]
    }
   ],
   "source": [
    "# See Above\n",
    "#we created the idea of the shopping bag.\n",
    "#now to make one\n",
    "\n",
    "wholeFoods_bag= ShoppingBag(2,10,[])\n",
    "\n",
    "def run():\n",
    "    while True:\n",
    "        response = input('what u want to do add/show/quit ')\n",
    "        \n",
    "        if response.lower()=='quit':\n",
    "            wholeFoods_bag.showShoppingBag()\n",
    "            print('Thanks for shopping')\n",
    "            break\n",
    "        elif response.lower()== 'add':\n",
    "            wholeFoods_bag.addToShoppingBag()\n",
    "        elif response.lower()== 'show':\n",
    "            wholeFoods_bag.showShoppingBag()\n",
    "        else:\n",
    "            print(\"Try another command\")\n",
    "\n",
    "\n",
    "run()"
   ]
  },
  {
   "cell_type": "markdown",
   "metadata": {},
   "source": [
    "##### Modifying an Attribute's Value Through a Method"
   ]
  },
  {
   "cell_type": "code",
   "execution_count": 11,
   "metadata": {},
   "outputs": [
    {
     "name": "stdout",
     "output_type": "stream",
     "text": [
      "your capacity is 10\n",
      "capacity after\n",
      "your capacity is 40\n"
     ]
    }
   ],
   "source": [
    "wholeFoods_bag.showCapacity()\n",
    "print('capacity after')\n",
    "wholeFoods_bag.changeBagCapacity(40)\n",
    "wholeFoods_bag.showCapacity()\n"
   ]
  },
  {
   "cell_type": "markdown",
   "metadata": {},
   "source": [
    "##### Incrementing an Attribute's Value Through a Method"
   ]
  },
  {
   "cell_type": "code",
   "execution_count": 13,
   "metadata": {},
   "outputs": [
    {
     "name": "stdout",
     "output_type": "stream",
     "text": [
      "your capacity is 40\n",
      "capacity after\n",
      "your capacity is 50\n"
     ]
    }
   ],
   "source": [
    "wholeFoods_bag.showCapacity()\n",
    "print('capacity after')\n",
    "wholeFoods_bag.increaseCapacity(10)\n",
    "wholeFoods_bag.showCapacity()"
   ]
  },
  {
   "cell_type": "markdown",
   "metadata": {},
   "source": [
    "##### In-Class Exercise #3 - Add a method that takes in three parameters of year, doors and seats and prints out a formatted print statement with make, model, year, seats, and doors"
   ]
  },
  {
   "cell_type": "code",
   "execution_count": 15,
   "metadata": {},
   "outputs": [
    {
     "name": "stdout",
     "output_type": "stream",
     "text": [
      "This car is from 2019 and is a Ford Explorer and has 4 doors and 5 seats\n"
     ]
    }
   ],
   "source": [
    "# Create class with 2 paramters inside of the __init__ which are make and model\n",
    "\n",
    "# Inside of the Car class create a method that has 4 parameter in total (self,year,door,seats)\n",
    "\n",
    "# Output: This car is from 2019 and is a Ford Expolorer and has 4 doors and 5 seats\n",
    "\n",
    "class Car():\n",
    "    def __init__(self, make, model):\n",
    "        self.make = make\n",
    "        self.model = model\n",
    "\n",
    "    def infoCar(self, year, doors, seats):\n",
    "        print(f\"This car is from {year} and is a {self.make} {self.model} and has {doors} doors and {seats} seats\")\n",
    "\n",
    "\n",
    "my_car = Car(\"Ford\", \"Explorer\")\n",
    "my_car.infoCar(2019, 4, 5)"
   ]
  },
  {
   "cell_type": "markdown",
   "metadata": {},
   "source": [
    "## Inheritance <br>\n",
    "<p>You can create a child-parent relationship between two classes by using inheritance. What this allows you to do is have overriding methods, but also inherit traits from the parent class. Think of it as an actual parent and child, the child will inherit the parent's genes, as will the classes in OOP</p>"
   ]
  },
  {
   "cell_type": "markdown",
   "metadata": {},
   "source": [
    "##### Syntax for Inheriting from a Parent Class"
   ]
  },
  {
   "cell_type": "code",
   "execution_count": 23,
   "metadata": {},
   "outputs": [
    {
     "name": "stdout",
     "output_type": "stream",
     "text": [
      "Bark\n",
      "Generic sound\n",
      "None\n",
      "9.8\n"
     ]
    }
   ],
   "source": [
    "#creat a parent class :Animal\n",
    "class Animal():\n",
    "    acceleration=9.8\n",
    "    \n",
    "    def __init__(self,name,species,legs=4): \n",
    "        self.name = name\n",
    "        self.species=species\n",
    "        self.leg=legs\n",
    "        \n",
    "    #gwneric parent method- not overrding anything\n",
    "    def makeSound(self):\n",
    "        print('Generic sound')\n",
    "\n",
    "\n",
    "\n",
    "    \n",
    "#child claSS: Dog\n",
    "class Dog(Animal):\n",
    "    speed =15\n",
    "    \n",
    "    def printInfo(self):\n",
    "        print(f\"the dog has {self.speed} mph in speed and {self.acceleration}\")\n",
    "        \n",
    "        \n",
    "    #creating grandchild class: Mutt\n",
    "    \n",
    "class Mutt(Dog):\n",
    "    color =\"tan\"\n",
    "    \n",
    "    #override animal class using the dog class to overwrite init from animal\n",
    "    def __init__(self,name,species,eye_color,legs =4):\n",
    "        Dog.__init__(self,name,species,legs)\n",
    "        self.eye_color = eye_color\n",
    "        \n",
    "        #overriding the nakesoubd method\n",
    "    def makeSound(self):\n",
    "        noise =\"Bark\"\n",
    "        return noise\n",
    "        \n",
    "\n",
    "lassie = Dog('lassie','dog')\n",
    "ba=Animal(\"genenric animal name\",\"GAS\")\n",
    "buster=Mutt('buster','mut','brown')\n",
    "\n",
    "print(buster.makeSound())\n",
    "print(lassie.makeSound())\n",
    "print(buster.acceleration)"
   ]
  },
  {
   "cell_type": "markdown",
   "metadata": {},
   "source": [
    "##### The \\__init\\__() Method for a Child Class - super()"
   ]
  },
  {
   "cell_type": "code",
   "execution_count": 25,
   "metadata": {
    "scrolled": true
   },
   "outputs": [
    {
     "name": "stdout",
     "output_type": "stream",
     "text": [
      "Bark\n",
      "Generic sound\n",
      "None\n",
      "9.8\n"
     ]
    }
   ],
   "source": [
    "class Puppy(Dog):\n",
    "    color='black'\n",
    "    \n",
    "    def __init__ (self, name, species, eye_color,leg=4): \n",
    "        super.__init__(name,species,legs)\n",
    "        self.eye_color =eye_color\n",
    "    \n",
    "    def makeSound(self):\n",
    "        noise =\"bark\"\n",
    "        return noise\n",
    "    \n",
    "    lassie = Dog('lassie','dog')\n",
    "ba=Animal(\"genenric animal name\",\"GAS\")\n",
    "buster=Mutt('buster','mut','brown')\n",
    "\n",
    "print(buster.makeSound())\n",
    "print(lassie.makeSound())\n",
    "print(buster.acceleration)"
   ]
  },
  {
   "cell_type": "markdown",
   "metadata": {},
   "source": [
    "##### Defining Attributes and Methods for the Child Class"
   ]
  },
  {
   "cell_type": "code",
   "execution_count": null,
   "metadata": {},
   "outputs": [],
   "source": [
    "# See Above"
   ]
  },
  {
   "cell_type": "markdown",
   "metadata": {},
   "source": [
    "##### Method Overriding"
   ]
  },
  {
   "cell_type": "code",
   "execution_count": null,
   "metadata": {},
   "outputs": [],
   "source": [
    "# See Above"
   ]
  },
  {
   "cell_type": "markdown",
   "metadata": {},
   "source": [
    "## Classes as Attributes <br>\n",
    "<p>Classes can also be used as attributes within another class. This is useful in situations where you need to keep variables locally stored, instead of globally stored.</p>"
   ]
  },
  {
   "cell_type": "code",
   "execution_count": 33,
   "metadata": {},
   "outputs": [
    {
     "name": "stdout",
     "output_type": "stream",
     "text": [
      "20\n",
      "2019 Tesla Model X 20\n"
     ]
    }
   ],
   "source": [
    "class Battery():\n",
    "    volts = 7.8\n",
    "    \n",
    "    def __init__(self, cells):\n",
    "        self.cells = cells\n",
    "\n",
    "class Car():\n",
    "    def __init__(self, year, make, model, battery):\n",
    "        self.year = year  \n",
    "        self.make = make\n",
    "        self.model = model\n",
    "        self.battery = battery\n",
    "        \n",
    "    def printInfo(self):\n",
    "        return f'{self.year} {self.make} {self.model} {self.battery.cells}'\n",
    "\n",
    "my_battery = Battery(20)\n",
    "tesla = Car(2019, 'Tesla', 'Model X', my_battery)\n",
    "\n",
    "print(tesla.battery.cells)\n",
    "print(tesla.printInfo())"
   ]
  },
  {
   "cell_type": "markdown",
   "metadata": {},
   "source": [
    "# Exercises"
   ]
  },
  {
   "cell_type": "markdown",
   "metadata": {},
   "source": [
    "### Exercise 1 - Turn the shopping cart program from yesterday into an object-oriented program\n",
    "\n",
    "The comments in the cell below are there as a guide for thinking about the problem. However, if you feel a different way is best for you and your own thought process, please do what feels best for you by all means."
   ]
  },
  {
   "cell_type": "code",
   "execution_count": 34,
   "metadata": {},
   "outputs": [
    {
     "name": "stdout",
     "output_type": "stream",
     "text": [
      "Shopping List:\n",
      "hot suse: 4\n",
      "\n",
      "Final Shopping List:\n",
      "hot suse: 4\n"
     ]
    }
   ],
   "source": [
    "# Create a class called cart that retains items and has methods to add, remove, and show\n",
    "\n",
    "from IPython.display import clear_output\n",
    "\n",
    "class ShoppingCart:\n",
    "    def __init__(self):\n",
    "        self.items = {}\n",
    "\n",
    "    def show_items(self):\n",
    "        clear_output()\n",
    "        print(\"Shopping List:\")\n",
    "        for item, quantity in self.items.items():\n",
    "            print(f\"{item}: {quantity}\")\n",
    "\n",
    "    def add_item(self):\n",
    "        item = input(\"Enter the item: \")\n",
    "        quantity = input(\"Enter the quantity: \")\n",
    "        self.items[item] = quantity\n",
    "\n",
    "    def delete_item(self):\n",
    "        item = input(\"Enter the item to delete: \")\n",
    "        if item in self.items:\n",
    "            del self.items[item]\n",
    "        else:\n",
    "            print(\"Item not found in the list.\")\n",
    "\n",
    "    def run(self):\n",
    "        while True:\n",
    "            self.show_items()\n",
    "            print(\"\\nCommands:\")\n",
    "            print(\"- Type 'add' to add an item\")\n",
    "            print(\"- Type 'delete' to delete an item\")\n",
    "            print(\"- Type 'quit' to exit the program\")\n",
    "\n",
    "            command = input(\"Enter a command: \")\n",
    "\n",
    "            if command == 'add':\n",
    "                self.add_item()\n",
    "            elif command == 'delete':\n",
    "                self.delete_item()\n",
    "            elif command == 'quit':\n",
    "                break\n",
    "            else:\n",
    "                print(\"Invalid command. Please try again.\")\n",
    "\n",
    "        self.show_items()\n",
    "        print(\"\\nFinal Shopping List:\")\n",
    "        for item, quantity in self.items.items():\n",
    "            print(f\"{item}: {quantity}\")\n",
    "\n",
    "# Create a shopping cart instance and run it\n",
    "shopping_cart = ShoppingCart()\n",
    "shopping_cart.run()\n",
    "    "
   ]
  },
  {
   "cell_type": "markdown",
   "metadata": {},
   "source": [
    "### Exercise 2 - Write a Python class which has two methods get_String and print_String. get_String accept a string from the user and print_String print the string in upper case"
   ]
  },
  {
   "cell_type": "code",
   "execution_count": 39,
   "metadata": {},
   "outputs": [
    {
     "name": "stdout",
     "output_type": "stream",
     "text": [
      "Enter a string: hi hello test\n",
      "String in upper case: HI HELLO TEST\n"
     ]
    }
   ],
   "source": [
    "class PrintString:\n",
    "    def __init__(self):\n",
    "        self.user_string = \"\"\n",
    "        \n",
    "    def get_String(self):\n",
    "        self.user_string = input(\"Enter a string: \")\n",
    "    \n",
    "    def print_String(self):\n",
    "        print(\"String in upper case:\", self.user_string.upper())\n",
    "\n",
    "ps=PrintString()\n",
    "# Get the input string from the user\n",
    "ps.get_String()\n",
    "\n",
    "# Print the string in upper case\n",
    "ps.print_String()"
   ]
  },
  {
   "cell_type": "code",
   "execution_count": null,
   "metadata": {},
   "outputs": [],
   "source": []
  },
  {
   "cell_type": "code",
   "execution_count": null,
   "metadata": {},
   "outputs": [],
   "source": []
  }
 ],
 "metadata": {
  "kernelspec": {
   "display_name": "Python 3 (ipykernel)",
   "language": "python",
   "name": "python3"
  },
  "language_info": {
   "codemirror_mode": {
    "name": "ipython",
    "version": 3
   },
   "file_extension": ".py",
   "mimetype": "text/x-python",
   "name": "python",
   "nbconvert_exporter": "python",
   "pygments_lexer": "ipython3",
   "version": "3.10.9"
  }
 },
 "nbformat": 4,
 "nbformat_minor": 2
}
